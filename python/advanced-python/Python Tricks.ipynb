{
 "cells": [
  {
   "cell_type": "markdown",
   "source": [
    "# Python Tricks"
   ],
   "metadata": {}
  },
  {
   "cell_type": "markdown",
   "source": [
    "#### Value swapping"
   ],
   "metadata": {}
  },
  {
   "cell_type": "code",
   "execution_count": 1,
   "source": [
    "a, b = 5, 10\r\n",
    "print(a, b)\r\n",
    "a, b = b, a\r\n",
    "print(a, b)\r\n",
    "# also possible in a list\r\n",
    "myList = [1, 2, 3, 4, 5]\r\n",
    "print(\"Initial list :\", myList)\r\n",
    "myList[0], myList[1] = myList[1], myList[0]\r\n",
    "print(\"Modified list:\", myList)"
   ],
   "outputs": [
    {
     "output_type": "stream",
     "name": "stdout",
     "text": [
      "5 10\n",
      "10 5\n",
      "Initial list : [1, 2, 3, 4, 5]\n",
      "Modified list: [2, 1, 3, 4, 5]\n"
     ]
    }
   ],
   "metadata": {}
  },
  {
   "cell_type": "markdown",
   "source": [
    "#### Create a single string from list"
   ],
   "metadata": {}
  },
  {
   "cell_type": "code",
   "execution_count": 2,
   "source": [
    "my_list = [\"I\", \"am\", \"awesome\"]\r\n",
    "\r\n",
    "# bad\r\n",
    "a = \"\"\r\n",
    "for i in my_list:\r\n",
    "    a += i + \" \"\r\n",
    "print(a)\r\n",
    "\r\n",
    "# good\r\n",
    "a = \" \".join(my_list)\r\n",
    "print(a)"
   ],
   "outputs": [
    {
     "output_type": "stream",
     "name": "stdout",
     "text": [
      "I am awesome \n",
      "I am awesome\n"
     ]
    }
   ],
   "metadata": {}
  },
  {
   "cell_type": "code",
   "execution_count": 3,
   "source": [
    "# join method is much faster\r\n",
    "from timeit import default_timer as timer\r\n",
    "my_list = [\"a\"] * 1000000\r\n",
    "\r\n",
    "# bad\r\n",
    "start = timer()\r\n",
    "a = \"\"\r\n",
    "for i in my_list:\r\n",
    "    a += i\r\n",
    "end = timer()\r\n",
    "print(end - start)\r\n",
    "#print(a)\r\n",
    "\r\n",
    "# good\r\n",
    "start = timer()\r\n",
    "a = \" \".join(my_list)\r\n",
    "end = timer()\r\n",
    "print(end - start)\r\n",
    "#print(a)"
   ],
   "outputs": [
    {
     "output_type": "stream",
     "name": "stdout",
     "text": [
      "0.4564969649999999\n",
      "0.0229722050000003\n"
     ]
    }
   ],
   "metadata": {}
  }
 ],
 "metadata": {
  "kernelspec": {
   "name": "python3",
   "display_name": "Python 3.8.8 64-bit ('base': conda)"
  },
  "language_info": {
   "codemirror_mode": {
    "name": "ipython",
    "version": 3
   },
   "file_extension": ".py",
   "mimetype": "text/x-python",
   "name": "python",
   "nbconvert_exporter": "python",
   "pygments_lexer": "ipython3",
   "version": "3.8.8"
  },
  "interpreter": {
   "hash": "4f6ff04b28647219fcca67429a463ed6e9c810538fda78e133ba241452213825"
  }
 },
 "nbformat": 4,
 "nbformat_minor": 2
}